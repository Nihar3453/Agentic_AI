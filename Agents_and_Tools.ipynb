{
  "cells": [
    {
      "cell_type": "markdown",
      "id": "XbwGHdGhFRqp",
      "metadata": {
        "id": "XbwGHdGhFRqp"
      },
      "source": [
        "# **Agents and Tools**\n",
        "\n",
        "### Nihar Lohar \n",
        "### BTech Artificial Intelligence, Mumbai\n"
      ]
    },
    {
      "cell_type": "code",
      "execution_count": null,
      "id": "1b6a555d-75d1-4241-bee3-a4ffaab4ecd2",
      "metadata": {
        "colab": {
          "base_uri": "https://localhost:8080/"
        },
        "id": "1b6a555d-75d1-4241-bee3-a4ffaab4ecd2",
        "outputId": "a2d8e45f-cd6e-4c26-c9b8-d3e95423bf0b"
      },
      "outputs": [
        {
          "name": "stdout",
          "output_type": "stream",
          "text": [
            "Requirement already satisfied: pandas in /usr/local/lib/python3.12/dist-packages (2.2.2)\n",
            "Collecting mistralai\n",
            "  Downloading mistralai-1.9.10-py3-none-any.whl.metadata (37 kB)\n",
            "Requirement already satisfied: numpy>=1.26.0 in /usr/local/lib/python3.12/dist-packages (from pandas) (2.0.2)\n",
            "Requirement already satisfied: python-dateutil>=2.8.2 in /usr/local/lib/python3.12/dist-packages (from pandas) (2.9.0.post0)\n",
            "Requirement already satisfied: pytz>=2020.1 in /usr/local/lib/python3.12/dist-packages (from pandas) (2025.2)\n",
            "Requirement already satisfied: tzdata>=2022.7 in /usr/local/lib/python3.12/dist-packages (from pandas) (2025.2)\n",
            "Collecting eval-type-backport>=0.2.0 (from mistralai)\n",
            "  Downloading eval_type_backport-0.2.2-py3-none-any.whl.metadata (2.2 kB)\n",
            "Requirement already satisfied: httpx>=0.28.1 in /usr/local/lib/python3.12/dist-packages (from mistralai) (0.28.1)\n",
            "Collecting invoke<3.0.0,>=2.2.0 (from mistralai)\n",
            "  Downloading invoke-2.2.0-py3-none-any.whl.metadata (3.3 kB)\n",
            "Requirement already satisfied: pydantic>=2.10.3 in /usr/local/lib/python3.12/dist-packages (from mistralai) (2.11.9)\n",
            "Requirement already satisfied: pyyaml<7.0.0,>=6.0.2 in /usr/local/lib/python3.12/dist-packages (from mistralai) (6.0.2)\n",
            "Requirement already satisfied: typing-inspection>=0.4.0 in /usr/local/lib/python3.12/dist-packages (from mistralai) (0.4.1)\n",
            "Requirement already satisfied: anyio in /usr/local/lib/python3.12/dist-packages (from httpx>=0.28.1->mistralai) (4.10.0)\n",
            "Requirement already satisfied: certifi in /usr/local/lib/python3.12/dist-packages (from httpx>=0.28.1->mistralai) (2025.8.3)\n",
            "Requirement already satisfied: httpcore==1.* in /usr/local/lib/python3.12/dist-packages (from httpx>=0.28.1->mistralai) (1.0.9)\n",
            "Requirement already satisfied: idna in /usr/local/lib/python3.12/dist-packages (from httpx>=0.28.1->mistralai) (3.10)\n",
            "Requirement already satisfied: h11>=0.16 in /usr/local/lib/python3.12/dist-packages (from httpcore==1.*->httpx>=0.28.1->mistralai) (0.16.0)\n",
            "Requirement already satisfied: annotated-types>=0.6.0 in /usr/local/lib/python3.12/dist-packages (from pydantic>=2.10.3->mistralai) (0.7.0)\n",
            "Requirement already satisfied: pydantic-core==2.33.2 in /usr/local/lib/python3.12/dist-packages (from pydantic>=2.10.3->mistralai) (2.33.2)\n",
            "Requirement already satisfied: typing-extensions>=4.12.2 in /usr/local/lib/python3.12/dist-packages (from pydantic>=2.10.3->mistralai) (4.15.0)\n",
            "Requirement already satisfied: six>=1.5 in /usr/local/lib/python3.12/dist-packages (from python-dateutil>=2.8.2->pandas) (1.17.0)\n",
            "Requirement already satisfied: sniffio>=1.1 in /usr/local/lib/python3.12/dist-packages (from anyio->httpx>=0.28.1->mistralai) (1.3.1)\n",
            "Downloading mistralai-1.9.10-py3-none-any.whl (440 kB)\n",
            "\u001b[2K   \u001b[90m━━━━━━━━━━━━━━━━━━━━━━━━━━━━━━━━━━━━━━━━\u001b[0m \u001b[32m440.5/440.5 kB\u001b[0m \u001b[31m11.0 MB/s\u001b[0m eta \u001b[36m0:00:00\u001b[0m\n",
            "\u001b[?25hDownloading eval_type_backport-0.2.2-py3-none-any.whl (5.8 kB)\n",
            "Downloading invoke-2.2.0-py3-none-any.whl (160 kB)\n",
            "\u001b[2K   \u001b[90m━━━━━━━━━━━━━━━━━━━━━━━━━━━━━━━━━━━━━━━━\u001b[0m \u001b[32m160.3/160.3 kB\u001b[0m \u001b[31m16.2 MB/s\u001b[0m eta \u001b[36m0:00:00\u001b[0m\n",
            "\u001b[?25hInstalling collected packages: invoke, eval-type-backport, mistralai\n",
            "Successfully installed eval-type-backport-0.2.2 invoke-2.2.0 mistralai-1.9.10\n"
          ]
        }
      ],
      "source": [
        "!pip install pandas mistralai"
      ]
    },
    {
      "cell_type": "code",
      "execution_count": null,
      "id": "8b4c0408-94a8-4c3f-b518-253b718f436e",
      "metadata": {
        "id": "8b4c0408-94a8-4c3f-b518-253b718f436e"
      },
      "outputs": [],
      "source": [
        "import pandas as pd\n",
        "\n",
        "data = {\n",
        "    'transaction_id': ['T1001', 'T1002', 'T1003', 'T1004', 'T1005'],\n",
        "    'customer_id': ['C001', 'C002', 'C003', 'C002', 'C001'],\n",
        "    'payment_amount': [125.50, 89.99, 120.00, 54.30, 210.20],\n",
        "    'payment_date': ['2021-10-05', '2021-10-06', '2021-10-07', '2021-10-05', '2021-10-08'],\n",
        "    'payment_status': ['Paid', 'Unpaid', 'Paid', 'Paid', 'Pending']\n",
        "}\n",
        "\n",
        "df = pd.DataFrame(data)\n"
      ]
    },
    {
      "cell_type": "code",
      "execution_count": null,
      "id": "d9e153c1-6ff6-4878-a8c2-e02bac749210",
      "metadata": {
        "id": "d9e153c1-6ff6-4878-a8c2-e02bac749210"
      },
      "outputs": [],
      "source": [
        "def retrieve_payment_status(df: data, transaction_id: str) -> str:\n",
        "    if transaction_id in df.transaction_id.values:\n",
        "      return json.dumps(\n",
        "          {\n",
        "              'status': df[df.transaction_id == transaction_id].payment_status.item()\n",
        "          }\n",
        "      )\n",
        "    return json.dumps({'error': 'Transaction not found'})\n",
        "\n",
        "def retrieve_payment_date(df: data, transaction_id: str) -> str:\n",
        "    if transaction_id in df.transaction_id.values:\n",
        "      return json.dumps(\n",
        "          {\n",
        "              'date': df[df.transaction_id == transaction_id].payment_date.item()\n",
        "          }\n",
        "      )\n",
        "    return json.dumps({'error': 'Transaction not found'})\n",
        "def retrieve_payment_amount(df: data, transaction_id: str) -> str:\n",
        "    if transaction_id in df.transaction_id.values:\n",
        "      return json.dumps(\n",
        "          {\n",
        "              'amount': df[df.transaction_id == transaction_id].payment_amount.item()\n",
        "          }\n",
        "      )\n",
        "      return json.dumps({'error': 'Transaction not found'})\n"
      ]
    },
    {
      "cell_type": "code",
      "execution_count": null,
      "id": "756006e4-ae7e-4023-89d5-7de970f2efe7",
      "metadata": {
        "id": "756006e4-ae7e-4023-89d5-7de970f2efe7"
      },
      "outputs": [],
      "source": [
        "tools = [\n",
        "    {\n",
        "        \"type\": \"function\",\n",
        "        \"function\": {\n",
        "            \"name\": \"retrieve_payment_status\",\n",
        "            \"description\": \"Get payment status of a transaction\",\n",
        "            \"parameters\": {\n",
        "                \"type\": \"object\",\n",
        "                \"properties\": {\n",
        "                    \"transaction_id\": {\n",
        "                        \"type\": \"string\",\n",
        "                        \"description\": \"The transaction ID.\"\n",
        "                    }\n",
        "                },\n",
        "                \"required\": [\"transaction_id\"],\n",
        "            },\n",
        "        },\n",
        "    },\n",
        "    {\n",
        "        \"type\": \"function\",\n",
        "        \"function\": {\n",
        "            \"name\": \"retrieve_payment_date\",\n",
        "            \"description\": \"Get payment date of a transaction\",\n",
        "            \"parameters\": {\n",
        "                \"type\": \"object\",\n",
        "                \"properties\": {\n",
        "                    \"transaction_id\": {\n",
        "                        \"type\": \"string\",\n",
        "                        \"description\": \"The transaction ID.\"\n",
        "                    }\n",
        "                },\n",
        "                \"required\": [\"transaction_id\"],\n",
        "            },\n",
        "        },\n",
        "    },\n",
        "    {\n",
        "        \"type\": \"function\",\n",
        "        \"function\": {\n",
        "            \"name\": \"retrieve_payment_amount\",\n",
        "            \"description\": \"Get payment amount of a transaction\",\n",
        "            \"parameters\": {\n",
        "                \"type\": \"object\",\n",
        "                \"properties\": {\n",
        "                    \"transaction_id\": {\n",
        "                        \"type\": \"string\",\n",
        "                        \"description\": \"The transaction ID.\"\n",
        "                    }\n",
        "                },\n",
        "                \"required\": [\"transaction_id\"],\n",
        "            },\n",
        "        },\n",
        "    }\n",
        "]\n"
      ]
    },
    {
      "cell_type": "code",
      "execution_count": null,
      "id": "88d3fda1-72bb-4ee3-a80f-340716a22a01",
      "metadata": {
        "id": "88d3fda1-72bb-4ee3-a80f-340716a22a01"
      },
      "outputs": [],
      "source": [
        "import functools\n",
        "\n",
        "names_to_functions = {\n",
        "  'retrieve_payment_status': functools.partial(retrieve_payment_status, df=df),\n",
        "  'retrieve_payment_date': functools.partial(retrieve_payment_date, df=df),\n",
        "  'retrieve_payment_amount': functools.partial(retrieve_payment_amount, df=df)\n",
        "}\n"
      ]
    },
    {
      "cell_type": "code",
      "execution_count": null,
      "id": "6777e7a6-f7e2-42bd-a141-5afe8fbd3c74",
      "metadata": {
        "id": "6777e7a6-f7e2-42bd-a141-5afe8fbd3c74"
      },
      "outputs": [],
      "source": [
        "messages = [\n",
        "    {\n",
        "        \"role\": \"user\",\n",
        "        \"content\": \"What's the status of my transaction T1001.\"\n",
        "    }\n",
        "]"
      ]
    },
    {
      "cell_type": "code",
      "execution_count": null,
      "id": "z7TNm9MLFkpt",
      "metadata": {
        "colab": {
          "base_uri": "https://localhost:8080/"
        },
        "id": "z7TNm9MLFkpt",
        "outputId": "6a6fae01-9453-4118-8385-175ded0008ad"
      },
      "outputs": [
        {
          "name": "stdout",
          "output_type": "stream",
          "text": [
            "Enter your Mistral API key: ··········\n"
          ]
        }
      ],
      "source": [
        "import getpass\n",
        "import os\n",
        "\n",
        "os.environ[\"MISTRAL_API_KEY\"] = getpass.getpass(\"Enter your Mistral API key: \")\n",
        "api_key = os.environ[\"MISTRAL_API_KEY\"]"
      ]
    },
    {
      "cell_type": "code",
      "execution_count": null,
      "id": "59493530-b310-447f-9f77-32d9013ffd30",
      "metadata": {
        "colab": {
          "base_uri": "https://localhost:8080/"
        },
        "id": "59493530-b310-447f-9f77-32d9013ffd30",
        "outputId": "98e60be4-44c1-4e85-fcf6-53780306ffc7"
      },
      "outputs": [
        {
          "data": {
            "text/plain": [
              "ChatCompletionResponse(id='723b7bb305c04c5f80c68d73b86a4b30', object='chat.completion', model='mistral-small-2506', usage=UsageInfo(prompt_tokens=226, completion_tokens=18, total_tokens=244, prompt_audio_seconds=Unset()), created=1758954865, choices=[ChatCompletionChoice(index=0, message=AssistantMessage(content='', tool_calls=[ToolCall(function=FunctionCall(name='retrieve_payment_status', arguments='{\"transaction_id\": \"T1001\"}'), id='55sbdVju4', type=None, index=0)], prefix=False, role='assistant'), finish_reason='tool_calls')])"
            ]
          },
          "execution_count": 51,
          "metadata": {},
          "output_type": "execute_result"
        }
      ],
      "source": [
        "from mistralai import Mistral\n",
        "\n",
        "model = \"mistral-small-2506\"\n",
        "\n",
        "client = Mistral(api_key=api_key)\n",
        "response = client.chat.complete(\n",
        "    model=model,\n",
        "    messages=messages,\n",
        "    tools=tools,\n",
        "    tool_choice=\"any\"\n",
        ")\n",
        "\n",
        "response"
      ]
    },
    {
      "cell_type": "code",
      "execution_count": null,
      "id": "a7af5b4d-2128-4833-bd94-b4d924495783",
      "metadata": {
        "id": "a7af5b4d-2128-4833-bd94-b4d924495783"
      },
      "outputs": [],
      "source": [
        "messages.append(response.choices[0].message)"
      ]
    },
    {
      "cell_type": "code",
      "execution_count": null,
      "id": "4a31eeaa-6ef2-4af8-8fbf-e5648d12a263",
      "metadata": {
        "colab": {
          "base_uri": "https://localhost:8080/"
        },
        "id": "4a31eeaa-6ef2-4af8-8fbf-e5648d12a263",
        "outputId": "c703960a-997d-46c2-e8de-5fb78884cd83"
      },
      "outputs": [
        {
          "data": {
            "text/plain": [
              "[{'role': 'user', 'content': \"What's the status of my transaction T1001.\"},\n",
              " AssistantMessage(content='', tool_calls=[ToolCall(function=FunctionCall(name='retrieve_payment_status', arguments='{\"transaction_id\": \"T1001\"}'), id='55sbdVju4', type=None, index=0)], prefix=False, role='assistant')]"
            ]
          },
          "execution_count": 53,
          "metadata": {},
          "output_type": "execute_result"
        }
      ],
      "source": [
        "messages"
      ]
    },
    {
      "cell_type": "code",
      "execution_count": null,
      "id": "db259833-75b0-4538-a78e-8a1566326ec9",
      "metadata": {
        "colab": {
          "base_uri": "https://localhost:8080/"
        },
        "id": "db259833-75b0-4538-a78e-8a1566326ec9",
        "outputId": "fe1be6aa-37b2-4e27-97ec-8d581ed0a560"
      },
      "outputs": [
        {
          "name": "stdout",
          "output_type": "stream",
          "text": [
            "\n",
            "function_name:  retrieve_payment_status \n",
            "function_params:  {'transaction_id': 'T1001'}\n"
          ]
        }
      ],
      "source": [
        "import json\n",
        "\n",
        "tool_call = response.choices[0].message.tool_calls[0]\n",
        "\n",
        "function_name = tool_call.function.name\n",
        "\n",
        "function_params = json.loads(tool_call.function.arguments)\n",
        "\n",
        "print(\"\\nfunction_name: \", function_name, \"\\nfunction_params: \", function_params)"
      ]
    },
    {
      "cell_type": "code",
      "execution_count": null,
      "id": "5eae109b-41c3-463d-98da-0e5499ea8a37",
      "metadata": {
        "colab": {
          "base_uri": "https://localhost:8080/",
          "height": 36
        },
        "id": "5eae109b-41c3-463d-98da-0e5499ea8a37",
        "outputId": "d5b28cab-9af8-4637-ea4d-c9a61f4654f0"
      },
      "outputs": [
        {
          "data": {
            "application/vnd.google.colaboratory.intrinsic+json": {
              "type": "string"
            },
            "text/plain": [
              "'{\"status\": \"Paid\"}'"
            ]
          },
          "execution_count": 55,
          "metadata": {},
          "output_type": "execute_result"
        }
      ],
      "source": [
        "function_result = names_to_functions[function_name](**function_params)\n",
        "\n",
        "function_result\n"
      ]
    },
    {
      "cell_type": "code",
      "execution_count": null,
      "id": "81a14939-b6a9-45ba-92cb-b190969f6889",
      "metadata": {
        "id": "81a14939-b6a9-45ba-92cb-b190969f6889"
      },
      "outputs": [],
      "source": [
        "messages.append(\n",
        "    {\n",
        "        \"role\":\"tool\",\n",
        "        \"name\":function_name,\n",
        "        \"content\":function_result,\n",
        "        \"tool_call_id\":tool_call.id\n",
        "    }\n",
        ")"
      ]
    },
    {
      "cell_type": "code",
      "execution_count": null,
      "id": "fafc8f24-f1a8-4d8a-ad7f-8465da97939f",
      "metadata": {
        "colab": {
          "base_uri": "https://localhost:8080/"
        },
        "id": "fafc8f24-f1a8-4d8a-ad7f-8465da97939f",
        "outputId": "c5b37b27-2ea3-4f58-ea86-7bdcb6eae606"
      },
      "outputs": [
        {
          "data": {
            "text/plain": [
              "[{'role': 'user', 'content': \"What's the status of my transaction T1001.\"},\n",
              " AssistantMessage(content='', tool_calls=[ToolCall(function=FunctionCall(name='retrieve_payment_status', arguments='{\"transaction_id\": \"T1001\"}'), id='55sbdVju4', type=None, index=0)], prefix=False, role='assistant'),\n",
              " {'role': 'tool',\n",
              "  'name': 'retrieve_payment_status',\n",
              "  'content': '{\"status\": \"Paid\"}',\n",
              "  'tool_call_id': '55sbdVju4'}]"
            ]
          },
          "execution_count": 57,
          "metadata": {},
          "output_type": "execute_result"
        }
      ],
      "source": [
        "messages"
      ]
    },
    {
      "cell_type": "code",
      "execution_count": null,
      "id": "36e1cbb5-96bf-49b6-bada-ff6338d67d86",
      "metadata": {
        "colab": {
          "base_uri": "https://localhost:8080/",
          "height": 36
        },
        "id": "36e1cbb5-96bf-49b6-bada-ff6338d67d86",
        "outputId": "46bec869-4168-4a9f-981b-525d1c64a2c5"
      },
      "outputs": [
        {
          "data": {
            "application/vnd.google.colaboratory.intrinsic+json": {
              "type": "string"
            },
            "text/plain": [
              "'The status of your transaction **T1001** is **Paid**.'"
            ]
          },
          "execution_count": 58,
          "metadata": {},
          "output_type": "execute_result"
        }
      ],
      "source": [
        "response = client.chat.complete(\n",
        "    model=model,\n",
        "    messages=messages\n",
        "\n",
        ")\n",
        "\n",
        "response.choices[0].message.content"
      ]
    },
    {
      "cell_type": "markdown",
      "id": "dsgYM1XKHegw",
      "metadata": {
        "id": "dsgYM1XKHegw"
      },
      "source": [
        "**Putting all in a function**"
      ]
    },
    {
      "cell_type": "code",
      "execution_count": null,
      "id": "ke25xT7MIyJm",
      "metadata": {
        "id": "ke25xT7MIyJm"
      },
      "outputs": [],
      "source": [
        "import json\n",
        "\n",
        "def get_response(user_query, client, model, tools, names_to_functions, system_prompt=None):\n",
        "    messages = []\n",
        "    if system_prompt:\n",
        "        messages.append(\n",
        "            {\n",
        "                \"role\": \"system\",\n",
        "                \"content\": system_prompt\n",
        "            }\n",
        "        )\n",
        "\n",
        "    messages.append(\n",
        "        {\n",
        "            \"role\": \"user\",\n",
        "            \"content\": user_query\n",
        "        }\n",
        "    )\n",
        "\n",
        "    response = client.chat.complete(\n",
        "        model=model,\n",
        "        messages=messages,\n",
        "        tools=tools,\n",
        "        tool_choice=\"any\"\n",
        "    )\n",
        "\n",
        "    messages.append(response.choices[0].message)\n",
        "\n",
        "    tool_call = response.choices[0].message.tool_calls[0]\n",
        "    function_name = tool_call.function.name\n",
        "    function_params = json.loads(tool_call.function.arguments)\n",
        "\n",
        "    function_result = names_to_functions[function_name](**function_params)\n",
        "\n",
        "    messages.append(\n",
        "        {\n",
        "            \"role\": \"tool\",\n",
        "            \"name\": function_name,\n",
        "            \"content\": function_result,\n",
        "            \"tool_call_id\": tool_call.id\n",
        "        }\n",
        "    )\n",
        "\n",
        "    response = client.chat.complete(\n",
        "        model=model,\n",
        "        messages=messages\n",
        "    )\n",
        "\n",
        "    final_response = response.choices[0].message.content\n",
        "\n",
        "    return final_response"
      ]
    },
    {
      "cell_type": "code",
      "execution_count": null,
      "id": "WMkP0fDGI3eN",
      "metadata": {
        "colab": {
          "base_uri": "https://localhost:8080/"
        },
        "id": "WMkP0fDGI3eN",
        "outputId": "46fda21d-aef7-48d1-c238-1969d5e9a5ce"
      },
      "outputs": [
        {
          "name": "stdout",
          "output_type": "stream",
          "text": [
            "User Query: What's the amount of my transaction T1001?\n",
            "Final Model Response: The amount of your transaction T1001 is $125.50.\n"
          ]
        }
      ],
      "source": [
        "system_prompt = \"\"\"\n",
        "You are a helpful assistant that provides information about payment transactions.\n",
        "Answer concisely.\n",
        "\"\"\"\n",
        "\n",
        "user_query = \"What's the amount of my transaction T1001?\"\n",
        "print(f\"User Query: {user_query}\")\n",
        "\n",
        "final_response = get_response(\n",
        "    user_query, client, model, tools, names_to_functions, system_prompt=system_prompt\n",
        ")\n",
        "print(f\"Final Model Response: {final_response}\")"
      ]
    },
    {
      "cell_type": "code",
      "execution_count": null,
      "id": "b9Hz4inSI5T4",
      "metadata": {
        "colab": {
          "base_uri": "https://localhost:8080/"
        },
        "id": "b9Hz4inSI5T4",
        "outputId": "0d4f9e41-7fef-48b0-de00-00ab1898af2e"
      },
      "outputs": [
        {
          "name": "stdout",
          "output_type": "stream",
          "text": [
            "\n",
            "User Query: What's the status of my transaction T1001?\n",
            "Final Model Response: The status of your transaction **T1001** is **Paid**.\n"
          ]
        }
      ],
      "source": [
        "# Without system prompt\n",
        "# user_query_2 = \"What's the date of my transaction T1002?\"\n",
        "user_query_2 = \"What's the status of my transaction T1001?\"\n",
        "print(f\"\\nUser Query: {user_query_2}\")\n",
        "\n",
        "final_response_2 = get_response (\n",
        "    user_query_2, client, model, tools, names_to_functions\n",
        ")\n",
        "print(f\"Final Model Response: {final_response_2}\")"
      ]
    },
    {
      "cell_type": "code",
      "execution_count": null,
      "id": "axSVkO5T6vuY",
      "metadata": {
        "id": "axSVkO5T6vuY"
      },
      "outputs": [],
      "source": []
    }
  ],
  "metadata": {
    "accelerator": "GPU",
    "colab": {
      "gpuType": "T4",
      "provenance": []
    },
    "kernelspec": {
      "display_name": "Python 3",
      "name": "python3"
    },
    "language_info": {
      "codemirror_mode": {
        "name": "ipython",
        "version": 3
      },
      "file_extension": ".py",
      "mimetype": "text/x-python",
      "name": "python",
      "nbconvert_exporter": "python",
      "pygments_lexer": "ipython3",
      "version": "3.10.0"
    }
  },
  "nbformat": 4,
  "nbformat_minor": 5
}
