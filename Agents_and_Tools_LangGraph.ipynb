{
  "cells": [
    {
      "cell_type": "markdown",
      "id": "XbwGHdGhFRqp",
      "metadata": {
        "id": "XbwGHdGhFRqp"
      },
      "source": [
        "# **Agents and Tools with LangGraph**\n",
        "\n",
        "### Nihar Lohar \n",
        "### BTech Artificial Intelligence \n",
        "\n"
      ]
    },
    {
      "cell_type": "code",
      "execution_count": null,
      "id": "ih3GJpXDJqYX",
      "metadata": {
        "colab": {
          "base_uri": "https://localhost:8080/"
        },
        "id": "ih3GJpXDJqYX",
        "outputId": "aea5ae99-e442-4889-ebb0-7d04e198747f"
      },
      "outputs": [
        {
          "name": "stdout",
          "output_type": "stream",
          "text": [
            "Collecting langgraph==0.3.2\n",
            "  Downloading langgraph-0.3.2-py3-none-any.whl.metadata (17 kB)\n",
            "Collecting mistralai\n",
            "  Downloading mistralai-1.9.10-py3-none-any.whl.metadata (37 kB)\n",
            "Requirement already satisfied: pandas in /usr/local/lib/python3.12/dist-packages (2.2.2)\n",
            "Requirement already satisfied: langchain-core<0.4,>=0.1 in /usr/local/lib/python3.12/dist-packages (from langgraph==0.3.2) (0.3.76)\n",
            "Collecting langgraph-checkpoint<3.0.0,>=2.0.10 (from langgraph==0.3.2)\n",
            "  Downloading langgraph_checkpoint-2.1.1-py3-none-any.whl.metadata (4.2 kB)\n",
            "Collecting langgraph-prebuilt<0.2,>=0.1.1 (from langgraph==0.3.2)\n",
            "  Downloading langgraph_prebuilt-0.1.8-py3-none-any.whl.metadata (5.0 kB)\n",
            "Collecting langgraph-sdk<0.2.0,>=0.1.42 (from langgraph==0.3.2)\n",
            "  Downloading langgraph_sdk-0.1.74-py3-none-any.whl.metadata (1.5 kB)\n",
            "Collecting eval-type-backport>=0.2.0 (from mistralai)\n",
            "  Downloading eval_type_backport-0.2.2-py3-none-any.whl.metadata (2.2 kB)\n",
            "Requirement already satisfied: httpx>=0.28.1 in /usr/local/lib/python3.12/dist-packages (from mistralai) (0.28.1)\n",
            "Collecting invoke<3.0.0,>=2.2.0 (from mistralai)\n",
            "  Downloading invoke-2.2.0-py3-none-any.whl.metadata (3.3 kB)\n",
            "Requirement already satisfied: pydantic>=2.10.3 in /usr/local/lib/python3.12/dist-packages (from mistralai) (2.11.9)\n",
            "Requirement already satisfied: python-dateutil>=2.8.2 in /usr/local/lib/python3.12/dist-packages (from mistralai) (2.9.0.post0)\n",
            "Requirement already satisfied: pyyaml<7.0.0,>=6.0.2 in /usr/local/lib/python3.12/dist-packages (from mistralai) (6.0.2)\n",
            "Requirement already satisfied: typing-inspection>=0.4.0 in /usr/local/lib/python3.12/dist-packages (from mistralai) (0.4.1)\n",
            "Requirement already satisfied: numpy>=1.26.0 in /usr/local/lib/python3.12/dist-packages (from pandas) (2.0.2)\n",
            "Requirement already satisfied: pytz>=2020.1 in /usr/local/lib/python3.12/dist-packages (from pandas) (2025.2)\n",
            "Requirement already satisfied: tzdata>=2022.7 in /usr/local/lib/python3.12/dist-packages (from pandas) (2025.2)\n",
            "Requirement already satisfied: anyio in /usr/local/lib/python3.12/dist-packages (from httpx>=0.28.1->mistralai) (4.10.0)\n",
            "Requirement already satisfied: certifi in /usr/local/lib/python3.12/dist-packages (from httpx>=0.28.1->mistralai) (2025.8.3)\n",
            "Requirement already satisfied: httpcore==1.* in /usr/local/lib/python3.12/dist-packages (from httpx>=0.28.1->mistralai) (1.0.9)\n",
            "Requirement already satisfied: idna in /usr/local/lib/python3.12/dist-packages (from httpx>=0.28.1->mistralai) (3.10)\n",
            "Requirement already satisfied: h11>=0.16 in /usr/local/lib/python3.12/dist-packages (from httpcore==1.*->httpx>=0.28.1->mistralai) (0.16.0)\n",
            "Requirement already satisfied: langsmith>=0.3.45 in /usr/local/lib/python3.12/dist-packages (from langchain-core<0.4,>=0.1->langgraph==0.3.2) (0.4.28)\n",
            "Requirement already satisfied: tenacity!=8.4.0,<10.0.0,>=8.1.0 in /usr/local/lib/python3.12/dist-packages (from langchain-core<0.4,>=0.1->langgraph==0.3.2) (8.5.0)\n",
            "Requirement already satisfied: jsonpatch<2.0,>=1.33 in /usr/local/lib/python3.12/dist-packages (from langchain-core<0.4,>=0.1->langgraph==0.3.2) (1.33)\n",
            "Requirement already satisfied: typing-extensions>=4.7 in /usr/local/lib/python3.12/dist-packages (from langchain-core<0.4,>=0.1->langgraph==0.3.2) (4.15.0)\n",
            "Requirement already satisfied: packaging>=23.2 in /usr/local/lib/python3.12/dist-packages (from langchain-core<0.4,>=0.1->langgraph==0.3.2) (25.0)\n",
            "Collecting ormsgpack>=1.10.0 (from langgraph-checkpoint<3.0.0,>=2.0.10->langgraph==0.3.2)\n",
            "  Downloading ormsgpack-1.10.0-cp312-cp312-manylinux_2_17_x86_64.manylinux2014_x86_64.whl.metadata (43 kB)\n",
            "\u001b[2K     \u001b[90m━━━━━━━━━━━━━━━━━━━━━━━━━━━━━━━━━━━━━━━━\u001b[0m \u001b[32m43.7/43.7 kB\u001b[0m \u001b[31m4.1 MB/s\u001b[0m eta \u001b[36m0:00:00\u001b[0m\n",
            "\u001b[?25hRequirement already satisfied: orjson>=3.10.1 in /usr/local/lib/python3.12/dist-packages (from langgraph-sdk<0.2.0,>=0.1.42->langgraph==0.3.2) (3.11.3)\n",
            "Requirement already satisfied: annotated-types>=0.6.0 in /usr/local/lib/python3.12/dist-packages (from pydantic>=2.10.3->mistralai) (0.7.0)\n",
            "Requirement already satisfied: pydantic-core==2.33.2 in /usr/local/lib/python3.12/dist-packages (from pydantic>=2.10.3->mistralai) (2.33.2)\n",
            "Requirement already satisfied: six>=1.5 in /usr/local/lib/python3.12/dist-packages (from python-dateutil>=2.8.2->mistralai) (1.17.0)\n",
            "Requirement already satisfied: jsonpointer>=1.9 in /usr/local/lib/python3.12/dist-packages (from jsonpatch<2.0,>=1.33->langchain-core<0.4,>=0.1->langgraph==0.3.2) (3.0.0)\n",
            "Requirement already satisfied: requests-toolbelt>=1.0.0 in /usr/local/lib/python3.12/dist-packages (from langsmith>=0.3.45->langchain-core<0.4,>=0.1->langgraph==0.3.2) (1.0.0)\n",
            "Requirement already satisfied: requests>=2.0.0 in /usr/local/lib/python3.12/dist-packages (from langsmith>=0.3.45->langchain-core<0.4,>=0.1->langgraph==0.3.2) (2.32.4)\n",
            "Requirement already satisfied: zstandard>=0.23.0 in /usr/local/lib/python3.12/dist-packages (from langsmith>=0.3.45->langchain-core<0.4,>=0.1->langgraph==0.3.2) (0.25.0)\n",
            "Requirement already satisfied: sniffio>=1.1 in /usr/local/lib/python3.12/dist-packages (from anyio->httpx>=0.28.1->mistralai) (1.3.1)\n",
            "Requirement already satisfied: charset_normalizer<4,>=2 in /usr/local/lib/python3.12/dist-packages (from requests>=2.0.0->langsmith>=0.3.45->langchain-core<0.4,>=0.1->langgraph==0.3.2) (3.4.3)\n",
            "Requirement already satisfied: urllib3<3,>=1.21.1 in /usr/local/lib/python3.12/dist-packages (from requests>=2.0.0->langsmith>=0.3.45->langchain-core<0.4,>=0.1->langgraph==0.3.2) (2.5.0)\n",
            "Downloading langgraph-0.3.2-py3-none-any.whl (130 kB)\n",
            "\u001b[2K   \u001b[90m━━━━━━━━━━━━━━━━━━━━━━━━━━━━━━━━━━━━━━━━\u001b[0m \u001b[32m130.9/130.9 kB\u001b[0m \u001b[31m13.1 MB/s\u001b[0m eta \u001b[36m0:00:00\u001b[0m\n",
            "\u001b[?25hDownloading mistralai-1.9.10-py3-none-any.whl (440 kB)\n",
            "\u001b[2K   \u001b[90m━━━━━━━━━━━━━━━━━━━━━━━━━━━━━━━━━━━━━━━━\u001b[0m \u001b[32m440.5/440.5 kB\u001b[0m \u001b[31m37.4 MB/s\u001b[0m eta \u001b[36m0:00:00\u001b[0m\n",
            "\u001b[?25hDownloading eval_type_backport-0.2.2-py3-none-any.whl (5.8 kB)\n",
            "Downloading invoke-2.2.0-py3-none-any.whl (160 kB)\n",
            "\u001b[2K   \u001b[90m━━━━━━━━━━━━━━━━━━━━━━━━━━━━━━━━━━━━━━━━\u001b[0m \u001b[32m160.3/160.3 kB\u001b[0m \u001b[31m17.0 MB/s\u001b[0m eta \u001b[36m0:00:00\u001b[0m\n",
            "\u001b[?25hDownloading langgraph_checkpoint-2.1.1-py3-none-any.whl (43 kB)\n",
            "\u001b[2K   \u001b[90m━━━━━━━━━━━━━━━━━━━━━━━━━━━━━━━━━━━━━━━━\u001b[0m \u001b[32m43.9/43.9 kB\u001b[0m \u001b[31m4.4 MB/s\u001b[0m eta \u001b[36m0:00:00\u001b[0m\n",
            "\u001b[?25hDownloading langgraph_prebuilt-0.1.8-py3-none-any.whl (25 kB)\n",
            "Downloading langgraph_sdk-0.1.74-py3-none-any.whl (50 kB)\n",
            "\u001b[2K   \u001b[90m━━━━━━━━━━━━━━━━━━━━━━━━━━━━━━━━━━━━━━━━\u001b[0m \u001b[32m50.3/50.3 kB\u001b[0m \u001b[31m5.4 MB/s\u001b[0m eta \u001b[36m0:00:00\u001b[0m\n",
            "\u001b[?25hDownloading ormsgpack-1.10.0-cp312-cp312-manylinux_2_17_x86_64.manylinux2014_x86_64.whl (216 kB)\n",
            "\u001b[2K   \u001b[90m━━━━━━━━━━━━━━━━━━━━━━━━━━━━━━━━━━━━━━━━\u001b[0m \u001b[32m216.7/216.7 kB\u001b[0m \u001b[31m24.0 MB/s\u001b[0m eta \u001b[36m0:00:00\u001b[0m\n",
            "\u001b[?25hInstalling collected packages: ormsgpack, invoke, eval-type-backport, mistralai, langgraph-sdk, langgraph-checkpoint, langgraph-prebuilt, langgraph\n",
            "Successfully installed eval-type-backport-0.2.2 invoke-2.2.0 langgraph-0.3.2 langgraph-checkpoint-2.1.1 langgraph-prebuilt-0.1.8 langgraph-sdk-0.1.74 mistralai-1.9.10 ormsgpack-1.10.0\n"
          ]
        }
      ],
      "source": [
        "!pip install langgraph==0.3.2 mistralai pandas"
      ]
    },
    {
      "cell_type": "code",
      "execution_count": null,
      "id": "Kv3pw8PVIneg",
      "metadata": {
        "colab": {
          "base_uri": "https://localhost:8080/"
        },
        "id": "Kv3pw8PVIneg",
        "outputId": "34f3d09f-5510-4741-f082-3fabe77eea13"
      },
      "outputs": [
        {
          "name": "stdout",
          "output_type": "stream",
          "text": [
            "Enter your Mistral API key: ··········\n"
          ]
        }
      ],
      "source": [
        "import getpass\n",
        "import os\n",
        "\n",
        "os.environ[\"MISTRAL_API_KEY\"] = getpass.getpass(\"Enter your Mistral API key: \")\n",
        "api_key = os.environ[\"MISTRAL_API_KEY\"]"
      ]
    },
    {
      "cell_type": "code",
      "execution_count": null,
      "id": "L8iJpQEXI1MM",
      "metadata": {
        "id": "L8iJpQEXI1MM"
      },
      "outputs": [],
      "source": [
        "import json\n",
        "import pandas as pd\n",
        "from mistralai import Mistral\n",
        "import functools\n",
        "from langgraph.graph import StateGraph, END"
      ]
    },
    {
      "cell_type": "code",
      "execution_count": null,
      "id": "TjXKoEf8I6L1",
      "metadata": {
        "id": "TjXKoEf8I6L1"
      },
      "outputs": [],
      "source": [
        "data = {\n",
        "    'transaction_id': ['T1001', 'T1002', 'T1003', 'T1004', 'T1005'],\n",
        "    'customer_id': ['C001', 'C002', 'C003', 'C002', 'C001'],\n",
        "    'payment_amount': [125.50, 89.99, 120.00, 54.30, 210.20],\n",
        "    'payment_date': ['2021-10-05', '2021-10-06', '2021-10-07', '2021-10-05', '2021-10-08'],\n",
        "    'payment_status': ['Paid', 'Unpaid', 'Paid', 'Paid', 'Pending']\n",
        "}\n",
        "\n",
        "df = pd.DataFrame(data)"
      ]
    },
    {
      "cell_type": "code",
      "execution_count": null,
      "id": "tVAJq2nYI4Gm",
      "metadata": {
        "id": "tVAJq2nYI4Gm"
      },
      "outputs": [],
      "source": [
        "def retrieve_payment_status(df: data, transaction_id: str) -> str:\n",
        "    if transaction_id in df.transaction_id.values:\n",
        "      return json.dumps(\n",
        "          {\n",
        "              'status': df[df.transaction_id == transaction_id].payment_status.item()\n",
        "          }\n",
        "      )\n",
        "    return json.dumps({'error': 'Transaction not found'})\n",
        "\n",
        "def retrieve_payment_date(df: data, transaction_id: str) -> str:\n",
        "    if transaction_id in df.transaction_id.values:\n",
        "      return json.dumps(\n",
        "          {\n",
        "              'date': df[df.transaction_id == transaction_id].payment_date.item()\n",
        "          }\n",
        "      )\n",
        "    return json.dumps({'error': 'Transaction not found'})\n",
        "def retrieve_payment_amount(df: data, transaction_id: str) -> str:\n",
        "    if transaction_id in df.transaction_id.values:\n",
        "      return json.dumps(\n",
        "          {\n",
        "              'amount': df[df.transaction_id == transaction_id].payment_amount.item()\n",
        "          }\n",
        "      )\n",
        "      return json.dumps({'error': 'Transaction not found'})\n",
        "\n",
        "names_to_functions = {\n",
        "    \"retrieve_payment_status\": retrieve_payment_status,\n",
        "    \"retrieve_payment_date\": retrieve_payment_date,\n",
        "    \"retrieve_payment_amount\": retrieve_payment_amount\n",
        "}"
      ]
    },
    {
      "cell_type": "code",
      "execution_count": null,
      "id": "9lLemfuQI-WL",
      "metadata": {
        "id": "9lLemfuQI-WL"
      },
      "outputs": [],
      "source": [
        "tools = [\n",
        "    {\n",
        "        \"type\": \"function\",\n",
        "        \"function\": {\n",
        "            \"name\": \"retrieve_payment_status\",\n",
        "            \"description\": \"Get payment status of a transaction\",\n",
        "            \"parameters\": {\n",
        "                \"type\": \"object\",\n",
        "                \"properties\": {\n",
        "                    \"transaction_id\": {\n",
        "                        \"type\": \"string\",\n",
        "                        \"description\": \"The transaction ID.\"\n",
        "                    }\n",
        "                },\n",
        "                \"required\": [\"transaction_id\"],\n",
        "            },\n",
        "        },\n",
        "    },\n",
        "    {\n",
        "        \"type\": \"function\",\n",
        "        \"function\": {\n",
        "            \"name\": \"retrieve_payment_date\",\n",
        "            \"description\": \"Get payment date of a transaction\",\n",
        "            \"parameters\": {\n",
        "                \"type\": \"object\",\n",
        "                \"properties\": {\n",
        "                    \"transaction_id\": {\n",
        "                        \"type\": \"string\",\n",
        "                        \"description\": \"The transaction ID.\"\n",
        "                    }\n",
        "                },\n",
        "                \"required\": [\"transaction_id\"],\n",
        "            },\n",
        "        },\n",
        "    },\n",
        "    {\n",
        "        \"type\": \"function\",\n",
        "        \"function\": {\n",
        "            \"name\": \"retrieve_payment_amount\",\n",
        "            \"description\": \"Get payment amount of a transaction\",\n",
        "            \"parameters\": {\n",
        "                \"type\": \"object\",\n",
        "                \"properties\": {\n",
        "                    \"transaction_id\": {\n",
        "                        \"type\": \"string\",\n",
        "                        \"description\": \"The transaction ID.\"\n",
        "                    }\n",
        "                },\n",
        "                \"required\": [\"transaction_id\"],\n",
        "            },\n",
        "        },\n",
        "    }\n",
        "]\n"
      ]
    },
    {
      "cell_type": "code",
      "execution_count": null,
      "id": "BDcSPOE-JAHp",
      "metadata": {
        "id": "BDcSPOE-JAHp"
      },
      "outputs": [],
      "source": [
        "model = \"mistral-small-2506\"\n",
        "client = Mistral(api_key=api_key)"
      ]
    },
    {
      "cell_type": "code",
      "execution_count": null,
      "id": "lqLDS0jaJCS4",
      "metadata": {
        "id": "lqLDS0jaJCS4"
      },
      "outputs": [],
      "source": [
        "State = dict"
      ]
    },
    {
      "cell_type": "code",
      "execution_count": null,
      "id": "mdW8YX8vJuXx",
      "metadata": {
        "id": "mdW8YX8vJuXx"
      },
      "outputs": [],
      "source": [
        "def planner(state: State) -> State:\n",
        "    messages = state.get(\"messages\", [])\n",
        "    response = client.chat.complete(\n",
        "        messages=messages,\n",
        "        model=model,\n",
        "        tools=tools,\n",
        "        tool_choice=\"any\",\n",
        "    )\n",
        "    state[\"messages\"].append(response.choices[0].message)\n",
        "    state[\"tool_calls\"] = response.choices[0].message.tool_calls\n",
        "    return state\n",
        "\n",
        "\n",
        "def execute_tools(state: State) -> State:\n",
        "    tool_calls = state.get(\"tool_calls\", [])\n",
        "    messages = state.get(\"messages\", [])\n",
        "    tool_results = []\n",
        "\n",
        "    for tool_call in tool_calls:\n",
        "        function_name = tool_call.function.name\n",
        "        function_params = json.loads(tool_call.function.arguments)\n",
        "\n",
        "        if function_name in names_to_functions:\n",
        "            # Pass the df DataFrame to the function\n",
        "            function_result = names_to_functions[function_name](df=df, **function_params)\n",
        "            tool_results.append({\n",
        "                \"role\": \"tool\",\n",
        "                \"name\": function_name,\n",
        "                \"content\": function_result,\n",
        "                \"tool_call_id\": tool_call.id\n",
        "            })\n",
        "        else:\n",
        "            tool_results.append({\n",
        "                \"role\": \"tool\",\n",
        "                \"name\": function_name,\n",
        "                \"content\": json.dumps({\"error\":  f\"Tool{function_name}not found\"}),\n",
        "                \"tool_call_id\": tool_call.id\n",
        "            })\n",
        "\n",
        "    messages.extend(tool_results)\n",
        "    state[\"messages\"] = messages\n",
        "    state[\"tool_calls\"] = None\n",
        "    return state\n",
        "\n",
        "\n",
        "def final_response(state: State) -> State:\n",
        "    response = client.chat.complete(\n",
        "        messages=state[\"messages\"],\n",
        "        model=model,\n",
        "    )\n",
        "    state[\"messages\"].append(response.choices[0].message)\n",
        "    return state\n",
        "\n",
        "def check_tool_needed(state: State) -> str:\n",
        "    return \"call_tool\" if state.get(\"tool_calls\") else \"final_answer\""
      ]
    },
    {
      "cell_type": "code",
      "execution_count": null,
      "id": "fv_S60x_JiSW",
      "metadata": {
        "id": "fv_S60x_JiSW"
      },
      "outputs": [],
      "source": [
        "graph_builder = StateGraph(State)\n",
        "graph_builder.set_entry_point(\"planner\")\n",
        "\n",
        "graph_builder.add_node(\"planner\", planner)\n",
        "graph_builder.add_node(\"call_tool\", execute_tools)\n",
        "graph_builder.add_node(\"final_answer\", final_response)\n",
        "\n",
        "graph_builder.add_conditional_edges(\"planner\", check_tool_needed,{\n",
        "   \"call_tool\":\"call_tool\",\n",
        "   \"final_answer\" : \"final_answer\"\n",
        "})\n",
        "\n",
        "graph_builder.add_conditional_edges(\"call_tool\", check_tool_needed,{\n",
        "   \"call_tool\":\"call_tool\",\n",
        "   \"final_answer\" : \"final_answer\"\n",
        "})\n",
        "\n",
        "graph_builder.add_edge(\"final_answer\",END)\n",
        "\n",
        "graph = graph_builder.compile()"
      ]
    },
    {
      "cell_type": "code",
      "execution_count": null,
      "id": "vrsYhh5ZKA-X",
      "metadata": {
        "id": "vrsYhh5ZKA-X"
      },
      "outputs": [],
      "source": [
        "def run_query(user_query: str, with_system: bool = True):\n",
        "    messages = []\n",
        "    if with_system:\n",
        "        messages.append(\n",
        "            {\n",
        "                \"role\": \"system\",\n",
        "                \"content\": \"You are a helpful assistant that provides imofrmation about payment transactions.\"\n",
        "            }\n",
        "        )\n",
        "    messages.append(\n",
        "        {\n",
        "            \"role\": \"user\",\n",
        "            \"content\": user_query,\n",
        "        }\n",
        "    )\n",
        "    state = {\"messages\":messages}\n",
        "    result = graph.invoke(state)\n",
        "\n",
        "\n",
        "\n",
        "\n",
        "    return result[\"messages\"][-1].content"
      ]
    },
    {
      "cell_type": "code",
      "execution_count": null,
      "id": "hduHeXuZRxL_",
      "metadata": {
        "colab": {
          "base_uri": "https://localhost:8080/"
        },
        "id": "hduHeXuZRxL_",
        "outputId": "b8dbd440-7463-414a-90a7-b9a3014a24c6"
      },
      "outputs": [
        {
          "name": "stdout",
          "output_type": "stream",
          "text": [
            "The status of your transaction T1001 is Paid. The amount is $125.5 and the date of the transaction is October 5, 2021.\n"
          ]
        }
      ],
      "source": [
        "user_query = \"What's the status and amount and date of my transaction T1001?\"\n",
        "# user_query = \"When was transaction T1005 made?\"\n",
        "# user_query = \"who is prime minister of india\"\n",
        "\n",
        "print(run_query(user_query))\n"
      ]
    },
    {
      "cell_type": "code",
      "execution_count": null,
      "id": "KDywHunqDmsY",
      "metadata": {
        "id": "KDywHunqDmsY"
      },
      "outputs": [],
      "source": []
    }
  ],
  "metadata": {
    "accelerator": "GPU",
    "colab": {
      "gpuType": "T4",
      "provenance": []
    },
    "kernelspec": {
      "display_name": "Python 3",
      "name": "python3"
    },
    "language_info": {
      "codemirror_mode": {
        "name": "ipython",
        "version": 3
      },
      "file_extension": ".py",
      "mimetype": "text/x-python",
      "name": "python",
      "nbconvert_exporter": "python",
      "pygments_lexer": "ipython3",
      "version": "3.10.0"
    }
  },
  "nbformat": 4,
  "nbformat_minor": 5
}
